{
 "cells": [
  {
   "cell_type": "code",
   "execution_count": 53,
   "metadata": {},
   "outputs": [],
   "source": [
    "from ultralytics import YOLO\n",
    "from datetime import datetime\n",
    "import cv2"
   ]
  },
  {
   "cell_type": "code",
   "execution_count": 54,
   "metadata": {},
   "outputs": [],
   "source": [
    "model = YOLO(\"classifier.pt\")"
   ]
  },
  {
   "cell_type": "code",
   "execution_count": 62,
   "metadata": {},
   "outputs": [],
   "source": [
    "filepath = \"Shih-Tzu.jpeg\"\n",
    "\n",
    "def predict_img():\n",
    "  results = model(filepath, verbose=False,conf=0.25, show_boxes=True, box=True, line_width=2, imgsz=640, classes=[15, 16])\n",
    "  result = results[0]\n",
    "\n",
    "  orig_image = cv2.imread(filepath)\n",
    "  font = cv2.FONT_HERSHEY_SIMPLEX\n",
    "  img = cv2.resize(orig_image, (800, 640))\n",
    "  \n",
    "         \n",
    "  probs = result.probs.top5[:1][::-1]\n",
    "  for i in range(len(probs)):\n",
    "      class_id = probs[i]\n",
    "      name = result.names[class_id]\n",
    "      y = i + 10\n",
    "      label_text = f\"Breed type: {name}\"\n",
    "      height, width, channels = img.shape\n",
    "      new_y = (height - y)\n",
    "      position = (20, new_y - 27 * i)\n",
    "      font_scale = 0.75\n",
    "      font_color = (0, 0, 0)\n",
    "      thickness = 2\n",
    "\n",
    "      cv2.putText(img, label_text, position, font, font_scale, font_color, thickness)\n",
    "      # Save the resulting image\n",
    "  \n",
    "  filename = datetime.now().strftime(\"%Y-%m-%d_%H%M%S\") + \"_\" + filepath\n",
    "  cv2.imwrite(filename, img)\n",
    "predict_img()"
   ]
  }
 ],
 "metadata": {
  "kernelspec": {
   "display_name": "Python 3",
   "language": "python",
   "name": "python3"
  },
  "language_info": {
   "codemirror_mode": {
    "name": "ipython",
    "version": 3
   },
   "file_extension": ".py",
   "mimetype": "text/x-python",
   "name": "python",
   "nbconvert_exporter": "python",
   "pygments_lexer": "ipython3",
   "version": "3.11.0"
  }
 },
 "nbformat": 4,
 "nbformat_minor": 2
}
